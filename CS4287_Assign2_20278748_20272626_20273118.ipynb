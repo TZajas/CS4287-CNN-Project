{
  "nbformat": 4,
  "nbformat_minor": 0,
  "metadata": {
    "colab": {
      "provenance": [],
      "authorship_tag": "ABX9TyOZvGminCfbVoJ+jUbSZx/Z",
      "include_colab_link": true
    },
    "kernelspec": {
      "name": "python3",
      "display_name": "Python 3"
    },
    "language_info": {
      "name": "python"
    }
  },
  "cells": [
    {
      "cell_type": "markdown",
      "metadata": {
        "id": "view-in-github",
        "colab_type": "text"
      },
      "source": [
        "<a href=\"https://colab.research.google.com/github/TZajas/CS4287-CNN-Project/blob/main/CS4287_Assign2_20278748_20272626_20273118.ipynb\" target=\"_parent\"><img src=\"https://colab.research.google.com/assets/colab-badge.svg\" alt=\"Open In Colab\"/></a>"
      ]
    },
    {
      "cell_type": "markdown",
      "source": [
        "# **CS4287 CNN Project**\n",
        "\n",
        "---"
      ],
      "metadata": {
        "id": "G9NNv6Cs6axy"
      }
    },
    {
      "cell_type": "code",
      "execution_count": null,
      "metadata": {
        "id": "tRZRNpO157eI"
      },
      "outputs": [],
      "source": [
        "# Tomasz Zajas: 20278748 | Cael O'Flaherty: 20272626 | Dawid Sobczak: 20273118\n",
        "# Runs with no errors"
      ]
    },
    {
      "cell_type": "code",
      "source": [
        "# Necessary libraries\n",
        "from IPython.display import display\n",
        "\n",
        "# For processing dataset\n",
        "import numpy as np\n",
        "import pandas as pd\n",
        "\n",
        "# For plotting dataset and model\n",
        "import seaborn as sb\n",
        "import matplotlib.pyplot as plt\n",
        "\n",
        "# For creating and training dataset\n",
        "import tensorflow as tf"
      ],
      "metadata": {
        "id": "63R_-j4179eV"
      },
      "execution_count": null,
      "outputs": []
    },
    {
      "cell_type": "markdown",
      "source": [
        "## Dataset Exploration and Visualisation\n",
        "\n",
        "---"
      ],
      "metadata": {
        "id": "pogzotsu6lUz"
      }
    },
    {
      "cell_type": "markdown",
      "metadata": {
        "id": "wavlmTJm7HBy"
      },
      "source": [
        "## Data Preprocessing and Normalization\n",
        "\n",
        "---\n",
        "\n"
      ]
    },
    {
      "cell_type": "markdown",
      "metadata": {
        "id": "_ooz0K49Hl1Q"
      },
      "source": [
        "## Model Definition\n",
        "\n",
        "---\n",
        "\n"
      ]
    },
    {
      "cell_type": "markdown",
      "metadata": {
        "id": "E3MMLNIq7Liw"
      },
      "source": [
        "## Model Training\n",
        "\n",
        "---\n",
        "\n"
      ]
    },
    {
      "cell_type": "markdown",
      "metadata": {
        "id": "PWtfBxEk7ScU"
      },
      "source": [
        "## Model Evaluation\n",
        "\n",
        "---\n",
        "\n"
      ]
    },
    {
      "cell_type": "markdown",
      "metadata": {
        "id": "BaIe9J9-7yBj"
      },
      "source": [
        "## Cross Fold Validation\n",
        "\n",
        "---\n",
        "\n"
      ]
    }
  ]
}